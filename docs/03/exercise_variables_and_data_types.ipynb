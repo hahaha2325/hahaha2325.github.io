{
  "cells": [
    {
      "cell_type": "markdown",
      "metadata": {
        "id": "W7gjkwdzUJ0w"
      },
      "source": [
        "# 第3回：変数（演習）\n",
        "\n",
        "学籍番号：B250140\n",
        "\n",
        "氏名：中野駿介\n",
        "\n",
        "---"
      ]
    },
    {
      "cell_type": "markdown",
      "metadata": {
        "id": "9VqEX2IRUJ0y"
      },
      "source": [
        "## 演習：変数の代入・出力・型の確認"
      ]
    },
    {
      "cell_type": "markdown",
      "metadata": {
        "id": "8SpEXYgnUJ0z"
      },
      "source": [
        "### 演習1\n",
        "浮動小数点数 `3.14` を変数 `pi` に代入し，`print`文を利用して変数を出力せよ"
      ]
    },
    {
      "cell_type": "code",
      "execution_count": 5,
      "metadata": {
        "id": "2royhhGeUJ0z",
        "outputId": "33025425-8f09-4944-9314-b668e544259c",
        "colab": {
          "base_uri": "https://localhost:8080/"
        }
      },
      "outputs": [
        {
          "output_type": "stream",
          "name": "stdout",
          "text": [
            "3.14\n"
          ]
        }
      ],
      "source": [
        "# 解答用セル\n",
        "pi=3.14\n",
        "print(3.14)"
      ]
    },
    {
      "cell_type": "markdown",
      "metadata": {
        "id": "DSSKJQixUJ00"
      },
      "source": [
        "### 演習2\n",
        "文字列 `Hello, World!` を変数 `greeting` に代入し，`print`文を利用して変数を出力せよ"
      ]
    },
    {
      "cell_type": "code",
      "execution_count": 7,
      "metadata": {
        "id": "TfJ52T_NUJ01",
        "outputId": "1016ac4d-3f59-4841-b164-83e115fa1c27",
        "colab": {
          "base_uri": "https://localhost:8080/"
        }
      },
      "outputs": [
        {
          "output_type": "stream",
          "name": "stdout",
          "text": [
            "Hello, World!\n"
          ]
        }
      ],
      "source": [
        "# 解答用セル\n",
        "greeting=\"Hello, World!\"\n",
        "print(greeting)"
      ]
    },
    {
      "cell_type": "markdown",
      "metadata": {
        "id": "8N2IrVF7UJ01"
      },
      "source": [
        "### 演習3\n",
        "文字列 `広島大学` を変数 `university` に代入し，`print`文を利用して変数を出力せよ"
      ]
    },
    {
      "cell_type": "code",
      "execution_count": 8,
      "metadata": {
        "id": "EZ08cS7wUJ02",
        "outputId": "bffa040b-9b80-4a11-b3eb-8135c5d8053b",
        "colab": {
          "base_uri": "https://localhost:8080/"
        }
      },
      "outputs": [
        {
          "output_type": "stream",
          "name": "stdout",
          "text": [
            "広島大学\n"
          ]
        }
      ],
      "source": [
        "# 解答用セル\n",
        "university=\"広島大学\"\n",
        "print(university)"
      ]
    },
    {
      "cell_type": "markdown",
      "metadata": {
        "id": "rVEsnjkPUJ02"
      },
      "source": [
        "### 演習4\n",
        "リスト `[1, 2, 3, 4, 5]` を変数 `numbers` に代入し，`print`文を利用して変数を出力せよ"
      ]
    },
    {
      "cell_type": "code",
      "execution_count": 9,
      "metadata": {
        "id": "0bf85HTWUJ02",
        "outputId": "bfe4dcff-b938-463a-8ad3-f5fcae5ae3c5",
        "colab": {
          "base_uri": "https://localhost:8080/"
        }
      },
      "outputs": [
        {
          "output_type": "stream",
          "name": "stdout",
          "text": [
            "[1, 2, 3, 4, 5]\n"
          ]
        }
      ],
      "source": [
        "# 解答用セル\n",
        "numbers=[1,2,3,4,5]\n",
        "print(numbers)"
      ]
    },
    {
      "cell_type": "markdown",
      "metadata": {
        "id": "qydhPKsxUJ03"
      },
      "source": [
        "### 演習5\n",
        "リスト `[1, \"one\", \"1\"]` を変数 `one` に代入し，その変数の型を確認せよ\n",
        "またリストのインデキシングを用いてリストの各要素の型を確認せよ"
      ]
    },
    {
      "cell_type": "code",
      "execution_count": 10,
      "metadata": {
        "id": "Cz7Nl4qrUJ03",
        "outputId": "f8571ff2-f994-40e5-b6f4-b6110b55cf71",
        "colab": {
          "base_uri": "https://localhost:8080/"
        }
      },
      "outputs": [
        {
          "output_type": "execute_result",
          "data": {
            "text/plain": [
              "[1, 'one', '1']"
            ]
          },
          "metadata": {},
          "execution_count": 10
        }
      ],
      "source": [
        "# 解答用セル\n",
        "one=[1,\"one\",\"1\"]\n",
        "one"
      ]
    },
    {
      "cell_type": "markdown",
      "metadata": {
        "id": "xXu_lKBhUJ03"
      },
      "source": [
        "## 演習：数値データの演算"
      ]
    },
    {
      "cell_type": "markdown",
      "metadata": {
        "id": "fygowAWcUJ03"
      },
      "source": [
        "### 演習1\n",
        "整数値13が格納された変数`a`と整数値4が格納された変数`b`をそれぞれ定義し，`a`を`b`で割ったときの余りを出力せよ\n",
        "\n",
        "**出力例**\n",
        "```python\n",
        "1\n",
        "```"
      ]
    },
    {
      "cell_type": "code",
      "execution_count": null,
      "metadata": {
        "id": "T6X7k0iFUJ04"
      },
      "outputs": [],
      "source": [
        "# 解答用セル"
      ]
    },
    {
      "cell_type": "markdown",
      "metadata": {
        "id": "cL90tnAaUJ04"
      },
      "source": [
        "### 演習2\n",
        "整数値13が格納された変数`a`と整数値4が格納された変数`b`をそれぞれ定義し，$a^b$の結果を出力せよ\n",
        "\n",
        "**出力例**\n",
        "```python\n",
        "28561\n",
        "```"
      ]
    },
    {
      "cell_type": "code",
      "execution_count": null,
      "metadata": {
        "id": "6yItEIf8UJ04"
      },
      "outputs": [],
      "source": [
        "# 解答用セル"
      ]
    },
    {
      "cell_type": "markdown",
      "metadata": {
        "id": "2wTQZKg7UJ04"
      },
      "source": [
        "### 演習3\n",
        "$x^2 + 2x + 1$ に $x=1$ を代入したときの結果を求めよ．"
      ]
    },
    {
      "cell_type": "code",
      "execution_count": null,
      "metadata": {
        "id": "d-oaetcoUJ04"
      },
      "outputs": [],
      "source": [
        "# 解答用セル"
      ]
    },
    {
      "cell_type": "markdown",
      "metadata": {
        "id": "UBMtkpj_UJ04"
      },
      "source": [
        "### 演習4\n",
        "$\\frac{a+b+c}{3}$ に $a=1, b=2, c=3$ を代入したときの結果を求めよ．"
      ]
    },
    {
      "cell_type": "code",
      "execution_count": null,
      "metadata": {
        "id": "GqrrRaxGUJ05"
      },
      "outputs": [],
      "source": [
        "# 解答用セル"
      ]
    },
    {
      "cell_type": "markdown",
      "metadata": {
        "id": "lnC8bqojUJ05"
      },
      "source": [
        "### 演習5\n",
        "底辺が5cm，高さが10cmのときの三角形の面積を求めよ．"
      ]
    },
    {
      "cell_type": "code",
      "execution_count": null,
      "metadata": {
        "id": "t1Mi6EQlUJ05"
      },
      "outputs": [],
      "source": [
        "# 解答用セル"
      ]
    },
    {
      "cell_type": "markdown",
      "metadata": {
        "id": "IDJYUDonUJ05"
      },
      "source": [
        "## 演習：文字列とリスト\n",
        "\n",
        "### 演習1\n",
        "文字列 \"Hello\" と \"World\" を格納した変数をそれぞれ定義して，これらを連結した結果を出力せよ．\n",
        "\n",
        "**出力例**\n",
        "```python\n",
        "HelloWorld\n",
        "```"
      ]
    },
    {
      "cell_type": "code",
      "execution_count": null,
      "metadata": {
        "id": "zALi913rUJ05"
      },
      "outputs": [],
      "source": [
        "# 解答用セル"
      ]
    },
    {
      "cell_type": "markdown",
      "metadata": {
        "id": "DSTZffd0UJ06"
      },
      "source": [
        "### 演習2\n",
        "以下の出力例となるような文字列を含むリストを作成せよ\n",
        "\n",
        "**出力例**\n",
        "```python\n",
        "['one', 'two', 'three']\n",
        "```"
      ]
    },
    {
      "cell_type": "code",
      "execution_count": null,
      "metadata": {
        "id": "dVEzU9SkUJ06"
      },
      "outputs": [],
      "source": [
        "# 解答用セル"
      ]
    },
    {
      "cell_type": "markdown",
      "metadata": {
        "id": "LVIep82hUJ06"
      },
      "source": [
        "### 演習3\n",
        "文字列 \"abcdefghijklmn\" から偶数インデックスの文字だけを取り出し，その結果を出力せよ．\n",
        "\n",
        "**出力例**\n",
        "```python\n",
        "acegikm\n",
        "```"
      ]
    },
    {
      "cell_type": "code",
      "execution_count": null,
      "metadata": {
        "id": "VmTAH4PZUJ06"
      },
      "outputs": [],
      "source": [
        "# 解答用セル"
      ]
    },
    {
      "cell_type": "markdown",
      "metadata": {
        "id": "8G20ja5OUJ06"
      },
      "source": [
        "### 演習4\n",
        "文字列 \"543212345\" の中央の文字を取り出し，その結果を出力せよ．ただし文字列の長さは奇数であるとする．\n",
        "\n",
        "**出力例**\n",
        "```python\n",
        "1\n",
        "```"
      ]
    },
    {
      "cell_type": "code",
      "execution_count": null,
      "metadata": {
        "id": "ypXM5W5aUJ06"
      },
      "outputs": [],
      "source": [
        "# 解答用セル"
      ]
    },
    {
      "cell_type": "markdown",
      "metadata": {
        "id": "M9ZlV3bGUJ06"
      },
      "source": [
        "### 演習5\n",
        "`insert`と`remove`を用いてリスト `[1, 2, 3, 4, 5]` を1つ右に回転させよ．すなわち，出力例のように最後の要素が最初に移動する．\n",
        "\n",
        "**出力例**\n",
        "```python\n",
        "[5, 1, 2, 3, 4]\n",
        "```"
      ]
    },
    {
      "cell_type": "code",
      "execution_count": null,
      "metadata": {
        "id": "hPcvqhozUJ07"
      },
      "outputs": [],
      "source": [
        "# 解答用セル"
      ]
    }
  ],
  "metadata": {
    "kernelspec": {
      "display_name": "Python 3 (ipykernel)",
      "language": "python",
      "name": "python3"
    },
    "language_info": {
      "codemirror_mode": {
        "name": "ipython",
        "version": 3
      },
      "file_extension": ".py",
      "mimetype": "text/x-python",
      "name": "python",
      "nbconvert_exporter": "python",
      "pygments_lexer": "ipython3",
      "version": "3.9.13"
    },
    "vscode": {
      "interpreter": {
        "hash": "393df73654aeede13ebb91076020de1190a2bd60e987ac18d822283f0caa6730"
      }
    },
    "colab": {
      "provenance": []
    }
  },
  "nbformat": 4,
  "nbformat_minor": 0
}